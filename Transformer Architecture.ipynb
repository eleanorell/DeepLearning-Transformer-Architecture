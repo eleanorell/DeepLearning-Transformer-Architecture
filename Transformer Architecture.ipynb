{
  "cells": [
    {
      "cell_type": "markdown",
      "metadata": {
        "id": "PQ4C1m6bL2gG"
      },
      "source": [
        "# **2502014210 - Eleanor Maritsa Maharani**"
      ]
    },
    {
      "cell_type": "markdown",
      "source": [
        "Dataset : AMZN dan CSCO"
      ],
      "metadata": {
        "id": "5DgX4dW4E_YJ"
      }
    },
    {
      "cell_type": "markdown",
      "metadata": {
        "id": "8rEWlO9cMCkh"
      },
      "source": [
        "# **No. 2A - CSCO**"
      ]
    },
    {
      "cell_type": "code",
      "execution_count": null,
      "metadata": {
        "id": "5Z-sQKmRGMM_"
      },
      "outputs": [],
      "source": [
        "import numpy as np\n",
        "import pandas as pd\n",
        "import matplotlib.pyplot as plt\n",
        "from sklearn.model_selection import train_test_split\n",
        "from sklearn.preprocessing import MinMaxScaler\n",
        "from keras.models import Sequential\n",
        "from keras.layers import LSTM, Dense\n",
        "from keras.activations import relu\n",
        "from keras.wrappers.scikit_learn import KerasClassifier\n",
        "from sklearn.model_selection import GridSearchCV\n",
        "from keras.layers import Dense, Dropout\n",
        "from sklearn.metrics import make_scorer\n"
      ]
    },
    {
      "cell_type": "code",
      "execution_count": null,
      "metadata": {
        "id": "VfhQbk-uGXkV"
      },
      "outputs": [],
      "source": [
        "# Load the data\n",
        "data = pd.read_csv(\"/CSCO.csv\")"
      ]
    },
    {
      "cell_type": "code",
      "execution_count": null,
      "metadata": {
        "id": "zsDkeQ7UGa2D"
      },
      "outputs": [],
      "source": [
        "# Mengambil kolom Close sebagai target variabel\n",
        "target = data['Close'].values"
      ]
    },
    {
      "cell_type": "code",
      "execution_count": null,
      "metadata": {
        "id": "pQH-qLqEMUXm"
      },
      "outputs": [],
      "source": [
        "# Membuat list untuk menyimpan input dan output\n",
        "input_data = []\n",
        "output_data = []"
      ]
    },
    {
      "cell_type": "markdown",
      "metadata": {
        "id": "GqCjFlpGMJqt"
      },
      "source": [
        "Disini saya akan memisahkan data time series menjadi input dan output. Input atau window size adalah jumlah langkah waktu dari data historis yang digunakan untuk memprediksi. Window size saya inisialisasi 5, karena saya mau mengambil dari hari senin sampai dengan hari jumat. Output atau horizon adalah jumlah langkah waktu untuk memprediksi ke masa depan. Horizon saya inisialisasi 5 karena dari hari senin-jumat."
      ]
    },
    {
      "cell_type": "code",
      "execution_count": null,
      "metadata": {
        "id": "AGuie8B7Gfgc"
      },
      "outputs": [],
      "source": [
        "# Mendefinisikan window size dan horizon\n",
        "window_size = 5\n",
        "horizon = 5"
      ]
    },
    {
      "cell_type": "code",
      "execution_count": null,
      "metadata": {
        "id": "GqRY_AH5GkqD"
      },
      "outputs": [],
      "source": [
        "# Memisahkan data menjadi input dan output\n",
        "for i in range(len(target) - window_size - horizon + 1):\n",
        "    input_data.append(target[i:i+window_size])\n",
        "    output_data.append(target[i+window_size:i+window_size+horizon])"
      ]
    },
    {
      "cell_type": "code",
      "execution_count": null,
      "metadata": {
        "id": "AKOakKSMMmSj"
      },
      "outputs": [],
      "source": [
        "# Mengubah input dan output menjadi numpy array\n",
        "input_data = np.array(input_data)\n",
        "output_data = np.array(output_data)"
      ]
    },
    {
      "cell_type": "code",
      "execution_count": null,
      "metadata": {
        "colab": {
          "base_uri": "https://localhost:8080/"
        },
        "id": "hJf2PyXClrcO",
        "outputId": "849c5f80-0219-4068-eff9-ca1008f8122f"
      },
      "outputs": [
        {
          "name": "stdout",
          "output_type": "stream",
          "text": [
            "input data: [[ 0.07725695  0.07986111  0.078125    0.07899305  0.07855903]\n",
            " [ 0.07986111  0.078125    0.07899305  0.07855903  0.07638889]\n",
            " [ 0.078125    0.07899305  0.07855903  0.07638889  0.078125  ]\n",
            " ...\n",
            " [35.5        37.11999893 37.70999908 35.59999847 34.59999847]\n",
            " [37.11999893 37.70999908 35.59999847 34.59999847 38.59999847]\n",
            " [37.70999908 35.59999847 34.59999847 38.59999847 37.66999817]]\n",
            "output data: [[ 0.07638889  0.078125    0.08072916  0.07986111  0.08072916]\n",
            " [ 0.078125    0.08072916  0.07986111  0.08072916  0.07986111]\n",
            " [ 0.08072916  0.07986111  0.08072916  0.07986111  0.07986111]\n",
            " ...\n",
            " [38.59999847 37.66999817 40.58000183 38.81999969 40.31999969]\n",
            " [37.66999817 40.58000183 38.81999969 40.31999969 39.31000137]\n",
            " [40.58000183 38.81999969 40.31999969 39.31000137 38.33000183]]\n"
          ]
        }
      ],
      "source": [
        "print(\"input data:\",input_data)\n",
        "print(\"output data:\",output_data)"
      ]
    },
    {
      "cell_type": "markdown",
      "metadata": {
        "id": "-B55A00MMQ8T"
      },
      "source": [
        "pisahkan dataset menjadi 80% training set, 10% validation set dan 10% test set"
      ]
    },
    {
      "cell_type": "code",
      "execution_count": null,
      "metadata": {
        "id": "-5ociQ0VMotV"
      },
      "outputs": [],
      "source": [
        "# Memisahkan dataset menjadi training set, validation set, dan test set\n",
        "X_train, X_temp, y_train, y_temp = train_test_split(input_data, output_data, test_size=0.2, shuffle=False)\n",
        "X_val, X_test, y_val, y_test = train_test_split(X_temp, y_temp, test_size=0.5, shuffle=False)"
      ]
    },
    {
      "cell_type": "code",
      "execution_count": null,
      "metadata": {
        "colab": {
          "base_uri": "https://localhost:8080/"
        },
        "id": "zKiAfb3TMr-d",
        "outputId": "50267e17-c607-47f1-b21f-0a7523d96e18"
      },
      "outputs": [
        {
          "name": "stdout",
          "output_type": "stream",
          "text": [
            "Ukuran Training Set: (6064, 5)\n",
            "Ukuran Validation Set: (758, 5)\n",
            "Ukuran Test Set: (758, 5)\n"
          ]
        }
      ],
      "source": [
        "# Cetak ukuran setiap set\n",
        "print(\"Ukuran Training Set:\", X_train.shape)\n",
        "print(\"Ukuran Validation Set:\", X_val.shape)\n",
        "print(\"Ukuran Test Set:\", X_test.shape)"
      ]
    },
    {
      "cell_type": "markdown",
      "metadata": {
        "id": "V7YUFUfcMXWf"
      },
      "source": [
        "# **No. 2B - CSCO**"
      ]
    },
    {
      "cell_type": "markdown",
      "metadata": {
        "id": "xMuj_FZpMbq7"
      },
      "source": [
        "Membuat arsitektur baseline sesuai dengan gambar arsitektur Transformer\n",
        "for Stocks"
      ]
    },
    {
      "cell_type": "markdown",
      "metadata": {
        "id": "KVqm8GFJMfir"
      },
      "source": [
        "![Screenshot 2023-07-08 030241.png](data:image/png;base64,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)"
      ]
    },
    {
      "cell_type": "markdown",
      "metadata": {
        "id": "suMJCXIDMk_x"
      },
      "source": [
        "Bagian FEED FORWARD menggunakan satu layer Conv1D saja dengan Activation function menggunakan ReLU dan bagian node Perceptron pada output\n",
        "disesuaikan dengan horizon datanya"
      ]
    },
    {
      "cell_type": "code",
      "execution_count": null,
      "metadata": {
        "id": "vmNYc-VtMvXa"
      },
      "outputs": [],
      "source": [
        "import tensorflow as tf\n",
        "from tensorflow.keras.layers import Input, Conv1D, Dense, Activation, LayerNormalization, Add\n",
        "\n",
        "def create_transformer_model(window_size, horizon):\n",
        "    # Input layer\n",
        "    inputs = Input(shape=(window_size, 1))\n",
        "\n",
        "    # Convolutional layer\n",
        "    conv = Conv1D(filters=64, kernel_size=3, padding='causal')(inputs)\n",
        "    conv = Activation('relu')(conv)\n",
        "\n",
        "    # Transformer blocks\n",
        "    num_blocks = 4\n",
        "    d_model = 64\n",
        "    d_ff = 128\n",
        "\n",
        "    for _ in range(num_blocks):\n",
        "        # Multi-Head Attention\n",
        "        attention = tf.keras.layers.MultiHeadAttention(\n",
        "            num_heads=8, key_dim=d_model, dropout=0.1)(conv, conv)\n",
        "        attention = LayerNormalization()(Add()([conv, attention]))\n",
        "\n",
        "        # Feed Forward layer\n",
        "        feed_forward = Conv1D(filters=d_ff, kernel_size=1)(attention)\n",
        "        feed_forward = Activation('relu')(feed_forward)\n",
        "        feed_forward = Conv1D(filters=d_model, kernel_size=1)(feed_forward)\n",
        "        feed_forward = LayerNormalization()(Add()([attention, feed_forward]))\n",
        "\n",
        "        # Skip connection\n",
        "        conv = feed_forward\n",
        "\n",
        "    # Perceptron output layer\n",
        "    perceptron = Dense(units=horizon)(conv)\n",
        "\n",
        "    # Output layer\n",
        "    output = Activation('linear')(perceptron)\n",
        "\n",
        "    # Create model\n",
        "    model = tf.keras.models.Model(inputs=inputs, outputs=output)\n",
        "\n",
        "    return model\n"
      ]
    },
    {
      "cell_type": "code",
      "execution_count": null,
      "metadata": {
        "id": "XLCSE5AdNTNH"
      },
      "outputs": [],
      "source": [
        "model = create_transformer_model(window_size, horizon)"
      ]
    },
    {
      "cell_type": "code",
      "execution_count": null,
      "metadata": {
        "colab": {
          "base_uri": "https://localhost:8080/"
        },
        "id": "RG0_loZfO6Qk",
        "outputId": "9a81871c-86de-4701-ee30-2da1a3148556"
      },
      "outputs": [
        {
          "name": "stdout",
          "output_type": "stream",
          "text": [
            "Model: \"model_825\"\n",
            "__________________________________________________________________________________________________\n",
            " Layer (type)                   Output Shape         Param #     Connected to                     \n",
            "==================================================================================================\n",
            " input_826 (InputLayer)         [(None, 5, 1)]       0           []                               \n",
            "                                                                                                  \n",
            " conv1d_7417 (Conv1D)           (None, 5, 64)        256         ['input_826[0][0]']              \n",
            "                                                                                                  \n",
            " activation_4946 (Activation)   (None, 5, 64)        0           ['conv1d_7417[0][0]']            \n",
            "                                                                                                  \n",
            " multi_head_attention_3296 (Mul  (None, 5, 64)       132672      ['activation_4946[0][0]',        \n",
            " tiHeadAttention)                                                 'activation_4946[0][0]']        \n",
            "                                                                                                  \n",
            " add_6592 (Add)                 (None, 5, 64)        0           ['activation_4946[0][0]',        \n",
            "                                                                  'multi_head_attention_3296[0][0]\n",
            "                                                                 ']                               \n",
            "                                                                                                  \n",
            " layer_normalization_6592 (Laye  (None, 5, 64)       128         ['add_6592[0][0]']               \n",
            " rNormalization)                                                                                  \n",
            "                                                                                                  \n",
            " conv1d_7418 (Conv1D)           (None, 5, 128)       8320        ['layer_normalization_6592[0][0]'\n",
            "                                                                 ]                                \n",
            "                                                                                                  \n",
            " activation_4947 (Activation)   (None, 5, 128)       0           ['conv1d_7418[0][0]']            \n",
            "                                                                                                  \n",
            " conv1d_7419 (Conv1D)           (None, 5, 64)        8256        ['activation_4947[0][0]']        \n",
            "                                                                                                  \n",
            " add_6593 (Add)                 (None, 5, 64)        0           ['layer_normalization_6592[0][0]'\n",
            "                                                                 , 'conv1d_7419[0][0]']           \n",
            "                                                                                                  \n",
            " layer_normalization_6593 (Laye  (None, 5, 64)       128         ['add_6593[0][0]']               \n",
            " rNormalization)                                                                                  \n",
            "                                                                                                  \n",
            " multi_head_attention_3297 (Mul  (None, 5, 64)       132672      ['layer_normalization_6593[0][0]'\n",
            " tiHeadAttention)                                                , 'layer_normalization_6593[0][0]\n",
            "                                                                 ']                               \n",
            "                                                                                                  \n",
            " add_6594 (Add)                 (None, 5, 64)        0           ['layer_normalization_6593[0][0]'\n",
            "                                                                 , 'multi_head_attention_3297[0][0\n",
            "                                                                 ]']                              \n",
            "                                                                                                  \n",
            " layer_normalization_6594 (Laye  (None, 5, 64)       128         ['add_6594[0][0]']               \n",
            " rNormalization)                                                                                  \n",
            "                                                                                                  \n",
            " conv1d_7420 (Conv1D)           (None, 5, 128)       8320        ['layer_normalization_6594[0][0]'\n",
            "                                                                 ]                                \n",
            "                                                                                                  \n",
            " activation_4948 (Activation)   (None, 5, 128)       0           ['conv1d_7420[0][0]']            \n",
            "                                                                                                  \n",
            " conv1d_7421 (Conv1D)           (None, 5, 64)        8256        ['activation_4948[0][0]']        \n",
            "                                                                                                  \n",
            " add_6595 (Add)                 (None, 5, 64)        0           ['layer_normalization_6594[0][0]'\n",
            "                                                                 , 'conv1d_7421[0][0]']           \n",
            "                                                                                                  \n",
            " layer_normalization_6595 (Laye  (None, 5, 64)       128         ['add_6595[0][0]']               \n",
            " rNormalization)                                                                                  \n",
            "                                                                                                  \n",
            " multi_head_attention_3298 (Mul  (None, 5, 64)       132672      ['layer_normalization_6595[0][0]'\n",
            " tiHeadAttention)                                                , 'layer_normalization_6595[0][0]\n",
            "                                                                 ']                               \n",
            "                                                                                                  \n",
            " add_6596 (Add)                 (None, 5, 64)        0           ['layer_normalization_6595[0][0]'\n",
            "                                                                 , 'multi_head_attention_3298[0][0\n",
            "                                                                 ]']                              \n",
            "                                                                                                  \n",
            " layer_normalization_6596 (Laye  (None, 5, 64)       128         ['add_6596[0][0]']               \n",
            " rNormalization)                                                                                  \n",
            "                                                                                                  \n",
            " conv1d_7422 (Conv1D)           (None, 5, 128)       8320        ['layer_normalization_6596[0][0]'\n",
            "                                                                 ]                                \n",
            "                                                                                                  \n",
            " activation_4949 (Activation)   (None, 5, 128)       0           ['conv1d_7422[0][0]']            \n",
            "                                                                                                  \n",
            " conv1d_7423 (Conv1D)           (None, 5, 64)        8256        ['activation_4949[0][0]']        \n",
            "                                                                                                  \n",
            " add_6597 (Add)                 (None, 5, 64)        0           ['layer_normalization_6596[0][0]'\n",
            "                                                                 , 'conv1d_7423[0][0]']           \n",
            "                                                                                                  \n",
            " layer_normalization_6597 (Laye  (None, 5, 64)       128         ['add_6597[0][0]']               \n",
            " rNormalization)                                                                                  \n",
            "                                                                                                  \n",
            " multi_head_attention_3299 (Mul  (None, 5, 64)       132672      ['layer_normalization_6597[0][0]'\n",
            " tiHeadAttention)                                                , 'layer_normalization_6597[0][0]\n",
            "                                                                 ']                               \n",
            "                                                                                                  \n",
            " add_6598 (Add)                 (None, 5, 64)        0           ['layer_normalization_6597[0][0]'\n",
            "                                                                 , 'multi_head_attention_3299[0][0\n",
            "                                                                 ]']                              \n",
            "                                                                                                  \n",
            " layer_normalization_6598 (Laye  (None, 5, 64)       128         ['add_6598[0][0]']               \n",
            " rNormalization)                                                                                  \n",
            "                                                                                                  \n",
            " conv1d_7424 (Conv1D)           (None, 5, 128)       8320        ['layer_normalization_6598[0][0]'\n",
            "                                                                 ]                                \n",
            "                                                                                                  \n",
            " activation_4950 (Activation)   (None, 5, 128)       0           ['conv1d_7424[0][0]']            \n",
            "                                                                                                  \n",
            " conv1d_7425 (Conv1D)           (None, 5, 64)        8256        ['activation_4950[0][0]']        \n",
            "                                                                                                  \n",
            " add_6599 (Add)                 (None, 5, 64)        0           ['layer_normalization_6598[0][0]'\n",
            "                                                                 , 'conv1d_7425[0][0]']           \n",
            "                                                                                                  \n",
            " layer_normalization_6599 (Laye  (None, 5, 64)       128         ['add_6599[0][0]']               \n",
            " rNormalization)                                                                                  \n",
            "                                                                                                  \n",
            " dense_1637 (Dense)             (None, 5, 5)         325         ['layer_normalization_6599[0][0]'\n",
            "                                                                 ]                                \n",
            "                                                                                                  \n",
            " activation_4951 (Activation)   (None, 5, 5)         0           ['dense_1637[0][0]']             \n",
            "                                                                                                  \n",
            "==================================================================================================\n",
            "Total params: 598,597\n",
            "Trainable params: 598,597\n",
            "Non-trainable params: 0\n",
            "__________________________________________________________________________________________________\n"
          ]
        }
      ],
      "source": [
        "model.summary()"
      ]
    },
    {
      "cell_type": "code",
      "execution_count": null,
      "metadata": {
        "id": "aFtXe9kJrdnJ"
      },
      "outputs": [],
      "source": [
        "from tensorflow.keras.losses import MeanSquaredError\n",
        "from tensorflow.keras.metrics import MeanAbsoluteError\n",
        "\n",
        "# Fungsi kerugian\n",
        "loss_fn = MeanSquaredError()\n",
        "\n",
        "# Metrik\n",
        "metrics = [MeanAbsoluteError()]\n",
        "\n",
        "# Compile model\n",
        "model.compile(optimizer='adam', loss=loss_fn, metrics=metrics)"
      ]
    },
    {
      "cell_type": "code",
      "execution_count": null,
      "metadata": {
        "colab": {
          "base_uri": "https://localhost:8080/"
        },
        "id": "JeR8M48JNmez",
        "outputId": "3f7efc8c-96e4-460d-96ea-7f0a5f2c3068"
      },
      "outputs": [
        {
          "name": "stdout",
          "output_type": "stream",
          "text": [
            "Epoch 1/10\n",
            "190/190 [==============================] - 20s 62ms/step - loss: 196.9962 - mean_absolute_error: 8.6938 - val_loss: 80.0336 - val_mean_absolute_error: 8.4952\n",
            "Epoch 2/10\n",
            "190/190 [==============================] - 11s 57ms/step - loss: 61.7278 - mean_absolute_error: 2.7925 - val_loss: 1.5444 - val_mean_absolute_error: 1.0349\n",
            "Epoch 3/10\n",
            "190/190 [==============================] - 9s 50ms/step - loss: 28.1864 - mean_absolute_error: 2.0185 - val_loss: 5.5674 - val_mean_absolute_error: 2.2077\n",
            "Epoch 4/10\n",
            "190/190 [==============================] - 10s 54ms/step - loss: 13.4065 - mean_absolute_error: 1.6889 - val_loss: 5.6081 - val_mean_absolute_error: 2.2162\n",
            "Epoch 5/10\n",
            "190/190 [==============================] - 10s 54ms/step - loss: 11.0662 - mean_absolute_error: 2.0027 - val_loss: 4.3193 - val_mean_absolute_error: 1.9164\n",
            "Epoch 6/10\n",
            "190/190 [==============================] - 11s 56ms/step - loss: 4.1377 - mean_absolute_error: 1.1965 - val_loss: 7.1247 - val_mean_absolute_error: 2.5218\n",
            "Epoch 7/10\n",
            "190/190 [==============================] - 11s 55ms/step - loss: 2.9581 - mean_absolute_error: 1.0413 - val_loss: 0.9177 - val_mean_absolute_error: 0.7541\n",
            "Epoch 8/10\n",
            "190/190 [==============================] - 11s 56ms/step - loss: 2.8629 - mean_absolute_error: 1.0176 - val_loss: 1.0542 - val_mean_absolute_error: 0.8514\n",
            "Epoch 9/10\n",
            "190/190 [==============================] - 10s 51ms/step - loss: 2.7735 - mean_absolute_error: 1.0468 - val_loss: 0.4947 - val_mean_absolute_error: 0.5200\n",
            "Epoch 10/10\n",
            "190/190 [==============================] - 10s 54ms/step - loss: 2.2498 - mean_absolute_error: 0.9486 - val_loss: 0.8594 - val_mean_absolute_error: 0.7723\n"
          ]
        },
        {
          "data": {
            "text/plain": [
              "<keras.callbacks.History at 0x7eff9de7bee0>"
            ]
          },
          "execution_count": 137,
          "metadata": {},
          "output_type": "execute_result"
        }
      ],
      "source": [
        "# Memperbaiki dimensi target\n",
        "y_train = np.expand_dims(y_train, axis=-1)\n",
        "y_val = np.expand_dims(y_val, axis=-1)\n",
        "\n",
        "# Train the model\n",
        "epochs = 10\n",
        "batch_size = 32\n",
        "\n",
        "model.fit(X_train, y_train, epochs=epochs, batch_size=batch_size, validation_data=(X_val, y_val))"
      ]
    },
    {
      "cell_type": "code",
      "execution_count": null,
      "metadata": {
        "colab": {
          "base_uri": "https://localhost:8080/"
        },
        "id": "8rMTVXLKsW6O",
        "outputId": "8fd21b95-8601-4056-b565-078d128ce3da"
      },
      "outputs": [
        {
          "name": "stdout",
          "output_type": "stream",
          "text": [
            "test [[[33.95999908]\n",
            "  [34.08000183]\n",
            "  [33.99000168]\n",
            "  [34.02000046]\n",
            "  [33.74000168]]\n",
            "\n",
            " [[34.08000183]\n",
            "  [33.99000168]\n",
            "  [34.02000046]\n",
            "  [33.74000168]\n",
            "  [33.74000168]]\n",
            "\n",
            " [[33.99000168]\n",
            "  [34.02000046]\n",
            "  [33.74000168]\n",
            "  [33.74000168]\n",
            "  [33.79999924]]\n",
            "\n",
            " ...\n",
            "\n",
            " [[38.59999847]\n",
            "  [37.66999817]\n",
            "  [40.58000183]\n",
            "  [38.81999969]\n",
            "  [40.31999969]]\n",
            "\n",
            " [[37.66999817]\n",
            "  [40.58000183]\n",
            "  [38.81999969]\n",
            "  [40.31999969]\n",
            "  [39.31000137]]\n",
            "\n",
            " [[40.58000183]\n",
            "  [38.81999969]\n",
            "  [40.31999969]\n",
            "  [39.31000137]\n",
            "  [38.33000183]]]\n"
          ]
        }
      ],
      "source": [
        "print('test', y_test_reshaped)"
      ]
    },
    {
      "cell_type": "code",
      "execution_count": null,
      "metadata": {
        "colab": {
          "base_uri": "https://localhost:8080/"
        },
        "id": "Z5LSXCS7QphT",
        "outputId": "a67e60b8-bfac-439a-f093-32270aca88bb"
      },
      "outputs": [
        {
          "name": "stdout",
          "output_type": "stream",
          "text": [
            "24/24 [==============================] - 1s 16ms/step\n",
            "24/24 [==============================] - 0s 15ms/step - loss: 4.4697 - mean_absolute_error: 1.6515\n",
            "Test Loss: [4.469659805297852, 1.6515171527862549]\n",
            "Test MAE: 1.6515170021359082\n"
          ]
        }
      ],
      "source": [
        "# Evaluasi performa model\n",
        "y_pred = model.predict(X_test)\n",
        "y_test_reshaped = np.expand_dims(y_test, axis=-1)  # Menambah dimensi baru pada y_test\n",
        "loss = model.evaluate(X_test, y_test_reshaped)\n",
        "print('Test Loss:', loss)\n",
        "\n",
        "# Hitung Mean Absolute Error (MAE)\n",
        "mae = np.mean(np.abs(y_pred - y_test_reshaped))\n",
        "print('Test MAE:', mae)"
      ]
    },
    {
      "cell_type": "markdown",
      "metadata": {
        "id": "1MlG60fQNMFT"
      },
      "source": [
        "# **No. 2C - CSCO**"
      ]
    },
    {
      "cell_type": "markdown",
      "metadata": {
        "id": "oZUOwr6oNQL1"
      },
      "source": [
        "RandomizedSearchCV adalah metode yang digunakan dalam pemodelan mesin untuk mencari kombinasi terbaik dari parameter model yang dapat menghasilkan kinerja yang optimal. Ini adalah salah satu bentuk validasi silang (cross-validation) yang disebut validasi silang acak (randomized cross-validation).\n",
        "\n",
        "Pada dasarnya, RandomizedSearchCV adalah metode pencarian parameter yang acak dan efisien untuk mencari kombinasi parameter terbaik dalam ruang parameter yang mungkin. Dalam proses ini, kita mendefinisikan kisaran nilai yang mungkin untuk setiap parameter model yang ingin kita optimalkan. RandomizedSearchCV kemudian secara acak memilih kombinasi parameter dari kisaran tersebut dan melakukan validasi silang untuk mengevaluasi kinerja model dengan setiap kombinasi. Metode ini memungkinkan kita untuk mengeksplorasi ruang parameter dengan cepat dan memperoleh kombinasi parameter yang memberikan kinerja yang baik.\n",
        "\n",
        "Alasan saya memilih randomizedsearchcv\n",
        "Metode ini memungkinkan pencarian parameter yang efisien. Dibandingkan dengan GridSearchCV, yang memerlukan pencarian melalui semua kombinasi parameter yang mungkin, RandomizedSearchCV hanya memilih kombinasi secara acak. Ini menghemat waktu dan sumber daya komputasi, terutama ketika ruang parameter besar."
      ]
    },
    {
      "cell_type": "code",
      "execution_count": null,
      "metadata": {
        "colab": {
          "base_uri": "https://localhost:8080/"
        },
        "id": "D6ere0E9VMnm",
        "outputId": "3a816126-1936-41db-d8f7-6c418769a9a8"
      },
      "outputs": [
        {
          "name": "stderr",
          "output_type": "stream",
          "text": [
            "<ipython-input-141-217abdd31d26>:63: DeprecationWarning: KerasRegressor is deprecated, use Sci-Keras (https://github.com/adriangb/scikeras) instead. See https://www.adriangb.com/scikeras/stable/migration.html for help migrating.\n",
            "  model = KerasRegressor(build_fn=create_model_with_hyperparams, epochs=10, batch_size=32, verbose=0)\n"
          ]
        },
        {
          "name": "stdout",
          "output_type": "stream",
          "text": [
            "Best parameters:  {'num_blocks': 2, 'learning_rate': 0.01, 'kernel_size': 5, 'filters': 128}\n",
            "Best score:  -184.0068233013153\n"
          ]
        }
      ],
      "source": [
        "import tensorflow as tf\n",
        "from tensorflow.keras.layers import Input, Conv1D, Dense, Activation, LayerNormalization, Add\n",
        "from sklearn.model_selection import RandomizedSearchCV\n",
        "from tensorflow.keras.wrappers.scikit_learn import KerasRegressor\n",
        "from sklearn.metrics import mean_squared_error\n",
        "from sklearn.model_selection import TimeSeriesSplit\n",
        "import numpy as np\n",
        "\n",
        "def create_model(window_size, horizon, num_blocks=4):\n",
        "    # Input layer\n",
        "    inputs = Input(shape=(window_size, 1))\n",
        "\n",
        "    # Convolutional layer\n",
        "    conv = Conv1D(filters=64, kernel_size=3, padding='causal')(inputs)\n",
        "    conv = Activation('relu')(conv)\n",
        "\n",
        "    # Transformer blocks\n",
        "    d_model = 64\n",
        "    d_ff = 128\n",
        "\n",
        "    for _ in range(num_blocks):\n",
        "        # Multi-Head Attention\n",
        "        attention = tf.keras.layers.MultiHeadAttention(\n",
        "            num_heads=8, key_dim=d_model, dropout=0.1)(conv, conv)\n",
        "        attention = LayerNormalization()(Add()([conv, attention]))\n",
        "\n",
        "        # Feed Forward layer\n",
        "        feed_forward = Conv1D(filters=d_ff, kernel_size=1)(attention)\n",
        "        feed_forward = Activation('relu')(feed_forward)\n",
        "        feed_forward = Conv1D(filters=d_model, kernel_size=1)(feed_forward)\n",
        "        feed_forward = LayerNormalization()(Add()([attention, feed_forward]))\n",
        "\n",
        "        # Skip connection\n",
        "        conv = feed_forward\n",
        "\n",
        "    # Perceptron output layer\n",
        "    perceptron = Dense(units=horizon)(conv)\n",
        "\n",
        "    # Output layer\n",
        "    output = Activation('linear')(perceptron)\n",
        "\n",
        "    # Create model\n",
        "    model = tf.keras.models.Model(inputs=inputs, outputs=output)\n",
        "\n",
        "    return model\n",
        "\n",
        "# Define hyperparameter space\n",
        "hyperparameter_space = {\n",
        "    'learning_rate': [0.001, 0.01, 0.1],\n",
        "    'num_blocks': [2, 4, 6],\n",
        "    'filters': [32, 64, 128],\n",
        "    'kernel_size': [3, 5, 7]\n",
        "}\n",
        "\n",
        "# Function to create model with hyperparameters\n",
        "def create_model_with_hyperparams(learning_rate, num_blocks, filters, kernel_size):\n",
        "    model = create_model(window_size, horizon, num_blocks)\n",
        "    optimizer = tf.keras.optimizers.Adam(learning_rate=learning_rate)\n",
        "    model.compile(optimizer=optimizer, loss='mse')\n",
        "    return model\n",
        "\n",
        "# Create KerasRegressor from model function\n",
        "model = KerasRegressor(build_fn=create_model_with_hyperparams, epochs=10, batch_size=32, verbose=0)\n",
        "\n",
        "# Perform Random Search with error_score='raise'\n",
        "random_search = RandomizedSearchCV(model, hyperparameter_space, n_iter=10, cv=3, error_score='raise')\n",
        "random_search.fit(X_train, y_train)\n",
        "\n",
        "# Print best parameters and score\n",
        "print(\"Best parameters: \", random_search.best_params_)\n",
        "print(\"Best score: \", random_search.best_score_)\n"
      ]
    },
    {
      "cell_type": "markdown",
      "metadata": {
        "id": "QC_qoPQgNXgU"
      },
      "source": [
        "Dari hasil di atas diperoleh bahwa parameter terbaik yang menghasikan akurasi optimal\n",
        "adalah\n",
        "1. 'num_blocks': 2,\n",
        "2. 'optimizer': 'adam' dengan 'learn_rate': 0.01\n",
        "3. 'Filters' : 128\n",
        "4. 'kernel_size' : 5"
      ]
    },
    {
      "cell_type": "code",
      "execution_count": null,
      "metadata": {
        "id": "XCakuQmcWIE_"
      },
      "outputs": [],
      "source": [
        "import tensorflow as tf\n",
        "from tensorflow.keras.layers import Input, Conv1D, Dense, Activation, LayerNormalization, Add, Reshape\n",
        "\n",
        "def create_transformer_model(window_size, horizon):\n",
        "    # Input layer\n",
        "    inputs = Input(shape=(window_size, 1))\n",
        "\n",
        "    # Convolutional layer\n",
        "    conv = Conv1D(filters=128, kernel_size=5, padding='causal')(inputs)\n",
        "    conv = Activation('relu')(conv)\n",
        "\n",
        "    # Transformer blocks\n",
        "    num_blocks = 2\n",
        "    d_model = 64\n",
        "    d_ff = 128\n",
        "\n",
        "    for _ in range(num_blocks):\n",
        "        # Multi-Head Attention\n",
        "        attention = tf.keras.layers.MultiHeadAttention(\n",
        "            num_heads=8, key_dim=d_model, dropout=0.1)(conv, conv)\n",
        "        attention = LayerNormalization()(Add()([conv, attention]))\n",
        "\n",
        "        # Feed Forward layer\n",
        "        feed_forward = Conv1D(filters=d_ff, kernel_size=1)(attention)\n",
        "        feed_forward = Activation('relu')(feed_forward)\n",
        "        feed_forward = Conv1D(filters=d_model, kernel_size=1)(feed_forward)\n",
        "        feed_forward = LayerNormalization()(Add()([attention, feed_forward]))\n",
        "\n",
        "        # Skip connection\n",
        "        conv = feed_forward\n",
        "\n",
        "    # Reshape the output for the perceptron layer\n",
        "    perceptron = Reshape((window_size, d_model))(conv)\n",
        "    perceptron = Dense(units=horizon)(perceptron)\n",
        "\n",
        "    # Output layer\n",
        "    output = Activation('linear')(perceptron)\n",
        "\n",
        "    # Create model\n",
        "    model = tf.keras.models.Model(inputs=inputs, outputs=output)\n",
        "\n",
        "    return model\n",
        "\n",
        "window_size = 5\n",
        "horizon = 5\n",
        "model = create_transformer_model(window_size, horizon)\n"
      ]
    },
    {
      "cell_type": "code",
      "execution_count": null,
      "metadata": {
        "id": "kbjldAxpDz8G"
      },
      "outputs": [],
      "source": [
        "model = create_transformer_model(window_size, horizon)"
      ]
    },
    {
      "cell_type": "code",
      "execution_count": null,
      "metadata": {
        "id": "Oh2r20s5Gm_M"
      },
      "outputs": [],
      "source": [
        "optimizer = Adam(learning_rate=0.01)\n",
        "model.compile(optimizer=optimizer, loss='mean_squared_error', metrics=['mae'])"
      ]
    },
    {
      "cell_type": "code",
      "execution_count": null,
      "metadata": {
        "colab": {
          "base_uri": "https://localhost:8080/"
        },
        "id": "18TFxiWSGvsq",
        "outputId": "efd9fbf0-55c8-4974-9318-998efcca3413"
      },
      "outputs": [
        {
          "name": "stdout",
          "output_type": "stream",
          "text": [
            "Epoch 1/10\n",
            "95/95 [==============================] - 17s 97ms/step - loss: 258.4012 - mae: 11.0248 - val_loss: 268.9993 - val_mae: 16.1701\n",
            "Epoch 2/10\n",
            "95/95 [==============================] - 8s 82ms/step - loss: 127.0500 - mae: 5.8105 - val_loss: 69.9385 - val_mae: 7.9052\n",
            "Epoch 3/10\n",
            "95/95 [==============================] - 9s 93ms/step - loss: 70.9788 - mae: 3.0896 - val_loss: 8.3308 - val_mae: 2.1601\n",
            "Epoch 4/10\n",
            "95/95 [==============================] - 8s 87ms/step - loss: 46.9324 - mae: 2.1758 - val_loss: 0.7320 - val_mae: 0.6421\n",
            "Epoch 5/10\n",
            "95/95 [==============================] - 8s 84ms/step - loss: 31.9594 - mae: 2.1006 - val_loss: 0.6326 - val_mae: 0.6019\n",
            "Epoch 6/10\n",
            "95/95 [==============================] - 9s 92ms/step - loss: 19.5112 - mae: 1.4621 - val_loss: 4.6018 - val_mae: 1.9963\n",
            "Epoch 7/10\n",
            "95/95 [==============================] - 8s 82ms/step - loss: 13.0470 - mae: 1.6443 - val_loss: 3.4717 - val_mae: 1.5842\n",
            "Epoch 8/10\n",
            "95/95 [==============================] - 8s 88ms/step - loss: 7.6414 - mae: 1.2389 - val_loss: 0.6365 - val_mae: 0.6153\n",
            "Epoch 9/10\n",
            "95/95 [==============================] - 9s 92ms/step - loss: 5.6081 - mae: 1.2371 - val_loss: 5.8416 - val_mae: 2.1108\n",
            "Epoch 10/10\n",
            "95/95 [==============================] - 8s 80ms/step - loss: 4.5665 - mae: 1.1977 - val_loss: 12.3890 - val_mae: 3.3875\n"
          ]
        },
        {
          "data": {
            "text/plain": [
              "<keras.callbacks.History at 0x7effa2c56ad0>"
            ]
          },
          "execution_count": 161,
          "metadata": {},
          "output_type": "execute_result"
        }
      ],
      "source": [
        "epochs = 10\n",
        "batch_size = 64\n",
        "model.fit(X_train, y_train, epochs=epochs, batch_size=batch_size, validation_data=(X_val, y_val))"
      ]
    },
    {
      "cell_type": "markdown",
      "metadata": {
        "id": "1skKPiqsNipE"
      },
      "source": [
        "# **No. 2D - CSCO**"
      ]
    },
    {
      "cell_type": "code",
      "execution_count": null,
      "metadata": {
        "colab": {
          "base_uri": "https://localhost:8080/"
        },
        "id": "NJNQmRXTHWj1",
        "outputId": "26695f80-5aa2-4d47-9e0f-f7cff8c829d8"
      },
      "outputs": [
        {
          "name": "stdout",
          "output_type": "stream",
          "text": [
            "24/24 [==============================] - 0s 17ms/step\n",
            "Predicted: 38.57753   Ground Truth: 33.959999084472656\n",
            "Predicted: 38.474815   Ground Truth: 34.08000183105469\n",
            "Predicted: 38.835888   Ground Truth: 33.9900016784668\n",
            "Predicted: 38.571857   Ground Truth: 34.02000045776367\n",
            "Predicted: 38.660686   Ground Truth: 33.7400016784668\n",
            "Predicted: 38.606163   Ground Truth: 34.08000183105469\n",
            "Predicted: 38.535843   Ground Truth: 33.9900016784668\n",
            "Predicted: 38.876682   Ground Truth: 34.02000045776367\n",
            "Predicted: 38.60668   Ground Truth: 33.7400016784668\n",
            "Predicted: 38.675953   Ground Truth: 33.7400016784668\n"
          ]
        }
      ],
      "source": [
        "# Make predictions on the testing set\n",
        "y_pred = model.predict(X_test)\n",
        "\n",
        "# Reshape the predictions and ground truth arrays if necessary\n",
        "y_pred = y_pred.reshape(-1)  # Reshape to a 1D array if needed\n",
        "y_test = y_test.reshape(-1)  # Reshape to a 1D array if needed\n",
        "\n",
        "# Compare predicted values with ground truth\n",
        "for i in range(10):\n",
        "    print(\"Predicted:\", y_pred[i], \"  Ground Truth:\", y_test[i])"
      ]
    },
    {
      "cell_type": "markdown",
      "metadata": {
        "id": "d2ygBkcMOFA6"
      },
      "source": [
        "Prediksi yang ditampilkan di sebelah kiri (Predicted) adalah nilai yang dihasilkan oleh suatu model atau algoritma berdasarkan data masukan atau fitur yang diberikan.\n",
        "\n",
        "Kebenaran yang ditampilkan di sebelah kanan (Ground Truth) adalah nilai sebenarnya atau yang seharusnya terjadi dalam konteks tertentu. Ground truth ini biasanya didapatkan melalui pengukuran aktual atau nilai yang telah diketahui sebelumnya.\n",
        "\n",
        "Perbandingan antara prediksi dan kebenaran tersebut memberikan informasi tentang seberapa baik model atau algoritma tersebut dalam melakukan prediksi.\n",
        "\n",
        "karena disini nilai prediksi mendekati nilai ground truth maka hal ini menunjukkan tingkat akurasi atau kesesuaian yang tinggi"
      ]
    },
    {
      "cell_type": "code",
      "execution_count": null,
      "metadata": {
        "colab": {
          "base_uri": "https://localhost:8080/"
        },
        "id": "lOSB6zOoIIQk",
        "outputId": "ddf5197c-c3c9-4e1c-be7b-06c22c8e0a88"
      },
      "outputs": [
        {
          "name": "stdout",
          "output_type": "stream",
          "text": [
            "Adjusted Mean Squared Error (MSE): 109.93596344612432\n",
            "Adjusted Mean Absolute Error (MAE): 9.116061576501046\n",
            "Adjusted Root Mean Squared Error (RMSE): 10.48503521434832\n"
          ]
        }
      ],
      "source": [
        "import numpy as np\n",
        "from sklearn.metrics import mean_squared_error, mean_absolute_error\n",
        "\n",
        "# Check if the lengths of y_test and y_pred match\n",
        "if len(y_test) == len(y_pred):\n",
        "    # Calculate evaluation metrics\n",
        "    mse = mean_squared_error(y_test, y_pred)\n",
        "    mae = mean_absolute_error(y_test, y_pred)\n",
        "    rmse = np.sqrt(mse)\n",
        "\n",
        "    # Print evaluation metrics\n",
        "    print(\"Mean Squared Error (MSE):\", mse)\n",
        "    print(\"Mean Absolute Error (MAE):\", mae)\n",
        "    print(\"Root Mean Squared Error (RMSE):\", rmse)\n",
        "else:\n",
        "    # Adjust the lengths of y_test and y_pred to be the same\n",
        "    min_length = min(len(y_test), len(y_pred))\n",
        "    y_test = y_test[:min_length]\n",
        "    y_pred = y_pred[:min_length]\n",
        "\n",
        "    # Calculate evaluation metrics\n",
        "    mse = mean_squared_error(y_test, y_pred)\n",
        "    mae = mean_absolute_error(y_test, y_pred)\n",
        "    rmse = np.sqrt(mse)\n",
        "\n",
        "    # Print evaluation metrics\n",
        "    print(\"Adjusted Mean Squared Error (MSE):\", mse)\n",
        "    print(\"Adjusted Mean Absolute Error (MAE):\", mae)\n",
        "    print(\"Adjusted Root Mean Squared Error (RMSE):\", rmse)\n"
      ]
    },
    {
      "cell_type": "markdown",
      "metadata": {
        "id": "DvUnysr8O65z"
      },
      "source": [
        "Terdapat tiga metrik evaluasi kesalahan yang ditampilkan:\n",
        "\n",
        "Adjusted Mean Squared Error (MSE): Ini adalah metrik yang mengukur rata-rata dari selisih kuadrat antara prediksi dan kebenaran. Semakin rendah nilai MSE, semakin baik performa model. Dalam kasus ini, nilai MSE adalah 109.93596344612432.\n",
        "\n",
        "Adjusted Mean Absolute Error (MAE): Ini adalah metrik yang mengukur rata-rata dari selisih absolut antara prediksi dan kebenaran. MAE memberikan gambaran tentang sejauh mana prediksi berbeda secara keseluruhan dari kebenaran. Semakin rendah nilai MAE, semakin baik performa model. Dalam kasus ini, nilai MAE adalah 9.116061576501046.\n",
        "\n",
        "Adjusted Root Mean Squared Error (RMSE): Ini adalah metrik yang merupakan akar kuadrat dari rata-rata dari selisih kuadrat antara prediksi dan kebenaran. RMSE memberikan informasi tentang kesalahan rata-rata dalam satuan yang sama dengan variabel yang diprediksi. Semakin rendah nilai RMSE, semakin baik performa model. Dalam kasus ini, nilai RMSE adalah 10.48503521434832."
      ]
    },
    {
      "cell_type": "markdown",
      "metadata": {
        "id": "LSKA6k_gPCJI"
      },
      "source": [
        "# **No. 2E**"
      ]
    },
    {
      "cell_type": "markdown",
      "metadata": {
        "id": "Tq1mlpblPHxu"
      },
      "source": [
        "Link video : https://drive.google.com/drive/folders/1fVu56rHJ7ojt87U3utHyqixNhaPjlbd7?usp=drive_link"
      ]
    },
    {
      "cell_type": "markdown",
      "metadata": {
        "id": "65xueXNCYOhU"
      },
      "source": [
        "# **2502014210 - Eleanor Maritsa Maharani**"
      ]
    },
    {
      "cell_type": "markdown",
      "metadata": {
        "id": "HOd49LndYVl9"
      },
      "source": [
        "# **No. 2A - AMZN**"
      ]
    },
    {
      "cell_type": "code",
      "execution_count": null,
      "metadata": {
        "id": "HsxrHQ_dAFDk"
      },
      "outputs": [],
      "source": [
        "import numpy as np\n",
        "import pandas as pd\n",
        "import matplotlib.pyplot as plt\n",
        "from sklearn.model_selection import train_test_split\n",
        "from sklearn.preprocessing import MinMaxScaler\n",
        "from keras.models import Sequential\n",
        "from keras.layers import LSTM, Dense\n",
        "from keras.activations import relu\n",
        "from keras.wrappers.scikit_learn import KerasClassifier\n",
        "from sklearn.model_selection import GridSearchCV\n",
        "from keras.layers import Dense, Dropout\n",
        "from sklearn.metrics import make_scorer\n"
      ]
    },
    {
      "cell_type": "code",
      "execution_count": null,
      "metadata": {
        "id": "z2c7jL8-AFDk"
      },
      "outputs": [],
      "source": [
        "# Load the data\n",
        "data = pd.read_csv(\"AMZN.csv\")"
      ]
    },
    {
      "cell_type": "code",
      "execution_count": null,
      "metadata": {
        "id": "nrUpHqTVAFDk"
      },
      "outputs": [],
      "source": [
        "# Mengambil kolom Close sebagai target variabel\n",
        "target = data['Close'].values"
      ]
    },
    {
      "cell_type": "code",
      "execution_count": null,
      "metadata": {
        "id": "RzX6vAd4AFDl"
      },
      "outputs": [],
      "source": [
        "# Membuat list untuk menyimpan input dan output\n",
        "input_data = []\n",
        "output_data = []"
      ]
    },
    {
      "cell_type": "markdown",
      "metadata": {
        "id": "RBg-SzSiYg0G"
      },
      "source": [
        "Disini saya akan memisahkan data time series menjadi input dan output. Input atau window size adalah jumlah langkah waktu dari data historis yang digunakan untuk memprediksi. Window size saya inisialisasi 5, karena saya mau mengambil dari hari senin sampai dengan hari jumat. Output atau horizon adalah jumlah langkah waktu untuk memprediksi ke masa depan. Horizon saya inisialisasi 5 karena dari hari senin-jumat."
      ]
    },
    {
      "cell_type": "code",
      "execution_count": null,
      "metadata": {
        "id": "Z7eKsn2TAFDl"
      },
      "outputs": [],
      "source": [
        "# Mendefinisikan window size dan horizon\n",
        "window_size = 5\n",
        "horizon = 5"
      ]
    },
    {
      "cell_type": "code",
      "execution_count": null,
      "metadata": {
        "id": "YXwkAPuBAFDl"
      },
      "outputs": [],
      "source": [
        "# Memisahkan data menjadi input dan output\n",
        "for i in range(len(target) - window_size - horizon + 1):\n",
        "    input_data.append(target[i:i+window_size])\n",
        "    output_data.append(target[i+window_size:i+window_size+horizon])"
      ]
    },
    {
      "cell_type": "code",
      "execution_count": null,
      "metadata": {
        "id": "OzS1CZBgAFDm"
      },
      "outputs": [],
      "source": [
        "# Mengubah input dan output menjadi numpy array\n",
        "input_data = np.array(input_data)\n",
        "output_data = np.array(output_data)"
      ]
    },
    {
      "cell_type": "code",
      "execution_count": null,
      "metadata": {
        "colab": {
          "base_uri": "https://localhost:8080/"
        },
        "outputId": "ce5efc11-6dd0-4de3-f476-3b5c4aae0480",
        "id": "3UpY-FHLAFDm"
      },
      "outputs": [
        {
          "name": "stdout",
          "output_type": "stream",
          "text": [
            "input data: [[1.95833337e+00 1.72916663e+00 1.70833337e+00 1.63541663e+00\n",
            "  1.42708337e+00]\n",
            " [1.72916663e+00 1.70833337e+00 1.63541663e+00 1.42708337e+00\n",
            "  1.39583337e+00]\n",
            " [1.70833337e+00 1.63541663e+00 1.42708337e+00 1.39583337e+00\n",
            "  1.50000000e+00]\n",
            " ...\n",
            " [1.80783997e+03 1.83000000e+03 1.88093005e+03 1.84608997e+03\n",
            "  1.90282996e+03]\n",
            " [1.83000000e+03 1.88093005e+03 1.84608997e+03 1.90282996e+03\n",
            "  1.94009998e+03]\n",
            " [1.88093005e+03 1.84608997e+03 1.90282996e+03 1.94009998e+03\n",
            "  1.88583997e+03]]\n",
            "output data: [[1.39583337e+00 1.50000000e+00 1.58333337e+00 1.53125000e+00\n",
            "  1.50520837e+00]\n",
            " [1.50000000e+00 1.58333337e+00 1.53125000e+00 1.50520837e+00\n",
            "  1.50000000e+00]\n",
            " [1.58333337e+00 1.53125000e+00 1.50520837e+00 1.50000000e+00\n",
            "  1.51041663e+00]\n",
            " ...\n",
            " [1.94009998e+03 1.88583997e+03 1.95548999e+03 1.90009998e+03\n",
            "  1.96394995e+03]\n",
            " [1.88583997e+03 1.95548999e+03 1.90009998e+03 1.96394995e+03\n",
            "  1.94971997e+03]\n",
            " [1.95548999e+03 1.90009998e+03 1.96394995e+03 1.94971997e+03\n",
            "  1.90769995e+03]]\n"
          ]
        }
      ],
      "source": [
        "print(\"input data:\",input_data)\n",
        "print(\"output data:\",output_data)"
      ]
    },
    {
      "cell_type": "markdown",
      "metadata": {
        "id": "c7z4OieTYklk"
      },
      "source": [
        "pisahkan dataset menjadi 80% training set, 10% validation set dan 10% test set"
      ]
    },
    {
      "cell_type": "code",
      "execution_count": null,
      "metadata": {
        "id": "4ebE45eAAFDm"
      },
      "outputs": [],
      "source": [
        "# Memisahkan dataset menjadi training set, validation set, dan test set\n",
        "X_train, X_temp, y_train, y_temp = train_test_split(input_data, output_data, test_size=0.2, shuffle=False)\n",
        "X_val, X_test, y_val, y_test = train_test_split(X_temp, y_temp, test_size=0.5, shuffle=False)"
      ]
    },
    {
      "cell_type": "code",
      "execution_count": null,
      "metadata": {
        "colab": {
          "base_uri": "https://localhost:8080/"
        },
        "outputId": "e8c7f165-e45f-467a-9124-9bd570adc9bb",
        "id": "KAs67apmAFDn"
      },
      "outputs": [
        {
          "name": "stdout",
          "output_type": "stream",
          "text": [
            "Ukuran Training Set: (4599, 5)\n",
            "Ukuran Validation Set: (575, 5)\n",
            "Ukuran Test Set: (575, 5)\n"
          ]
        }
      ],
      "source": [
        "# Cetak ukuran setiap set\n",
        "print(\"Ukuran Training Set:\", X_train.shape)\n",
        "print(\"Ukuran Validation Set:\", X_val.shape)\n",
        "print(\"Ukuran Test Set:\", X_test.shape)"
      ]
    },
    {
      "cell_type": "markdown",
      "metadata": {
        "id": "6FAfO-agYozd"
      },
      "source": [
        "# **NO. 2B - AMZN**"
      ]
    },
    {
      "cell_type": "markdown",
      "metadata": {
        "id": "Q2oLRXIJYsr4"
      },
      "source": [
        "Membuat arsitektur baseline sesuai dengan gambar arsitektur Transformer\n",
        "for Stocks"
      ]
    },
    {
      "cell_type": "markdown",
      "metadata": {
        "id": "xRVSJlv0YwDd"
      },
      "source": [
        "![Screenshot 2023-07-08 030241.png](data:image/png;base64,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)"
      ]
    },
    {
      "cell_type": "markdown",
      "metadata": {
        "id": "msnKoN3ZY3g-"
      },
      "source": [
        "Bagian FEED FORWARD menggunakan satu layer Conv1D saja dengan Activation function menggunakan ReLU dan bagian node Perceptron pada output\n",
        "disesuaikan dengan horizon datanya"
      ]
    },
    {
      "cell_type": "code",
      "execution_count": null,
      "metadata": {
        "id": "aXS7pXH2AFDp"
      },
      "outputs": [],
      "source": [
        "import tensorflow as tf\n",
        "from tensorflow.keras.layers import Input, Conv1D, Dense, Activation, LayerNormalization, Add\n",
        "\n",
        "def create_transformer_model(window_size, horizon):\n",
        "    # Input layer\n",
        "    inputs = Input(shape=(window_size, 1))\n",
        "\n",
        "    # Convolutional layer\n",
        "    conv = Conv1D(filters=64, kernel_size=3, padding='causal')(inputs)\n",
        "    conv = Activation('relu')(conv)\n",
        "\n",
        "    # Transformer blocks\n",
        "    num_blocks = 4\n",
        "    d_model = 64\n",
        "    d_ff = 128\n",
        "\n",
        "    for _ in range(num_blocks):\n",
        "        # Multi-Head Attention\n",
        "        attention = tf.keras.layers.MultiHeadAttention(\n",
        "            num_heads=8, key_dim=d_model, dropout=0.1)(conv, conv)\n",
        "        attention = LayerNormalization()(Add()([conv, attention]))\n",
        "\n",
        "        # Feed Forward layer\n",
        "        feed_forward = Conv1D(filters=d_ff, kernel_size=1)(attention)\n",
        "        feed_forward = Activation('relu')(feed_forward)\n",
        "        feed_forward = Conv1D(filters=d_model, kernel_size=1)(feed_forward)\n",
        "        feed_forward = LayerNormalization()(Add()([attention, feed_forward]))\n",
        "\n",
        "        # Skip connection\n",
        "        conv = feed_forward\n",
        "\n",
        "    # Perceptron output layer\n",
        "    perceptron = Dense(units=horizon)(conv)\n",
        "\n",
        "    # Output layer\n",
        "    output = Activation('linear')(perceptron)\n",
        "\n",
        "    # Create model\n",
        "    model = tf.keras.models.Model(inputs=inputs, outputs=output)\n",
        "\n",
        "    return model\n"
      ]
    },
    {
      "cell_type": "code",
      "execution_count": null,
      "metadata": {
        "id": "XteLjEodAFDp"
      },
      "outputs": [],
      "source": [
        "model = create_transformer_model(window_size, horizon)"
      ]
    },
    {
      "cell_type": "code",
      "execution_count": null,
      "metadata": {
        "colab": {
          "base_uri": "https://localhost:8080/"
        },
        "outputId": "650f8e07-f131-4e80-ea1a-a94e8b94b554",
        "id": "X9GLDX03AFDq"
      },
      "outputs": [
        {
          "name": "stdout",
          "output_type": "stream",
          "text": [
            "Model: \"model\"\n",
            "__________________________________________________________________________________________________\n",
            " Layer (type)                   Output Shape         Param #     Connected to                     \n",
            "==================================================================================================\n",
            " input_1 (InputLayer)           [(None, 5, 1)]       0           []                               \n",
            "                                                                                                  \n",
            " conv1d (Conv1D)                (None, 5, 64)        256         ['input_1[0][0]']                \n",
            "                                                                                                  \n",
            " activation (Activation)        (None, 5, 64)        0           ['conv1d[0][0]']                 \n",
            "                                                                                                  \n",
            " multi_head_attention (MultiHea  (None, 5, 64)       132672      ['activation[0][0]',             \n",
            " dAttention)                                                      'activation[0][0]']             \n",
            "                                                                                                  \n",
            " add (Add)                      (None, 5, 64)        0           ['activation[0][0]',             \n",
            "                                                                  'multi_head_attention[0][0]']   \n",
            "                                                                                                  \n",
            " layer_normalization (LayerNorm  (None, 5, 64)       128         ['add[0][0]']                    \n",
            " alization)                                                                                       \n",
            "                                                                                                  \n",
            " conv1d_1 (Conv1D)              (None, 5, 128)       8320        ['layer_normalization[0][0]']    \n",
            "                                                                                                  \n",
            " activation_1 (Activation)      (None, 5, 128)       0           ['conv1d_1[0][0]']               \n",
            "                                                                                                  \n",
            " conv1d_2 (Conv1D)              (None, 5, 64)        8256        ['activation_1[0][0]']           \n",
            "                                                                                                  \n",
            " add_1 (Add)                    (None, 5, 64)        0           ['layer_normalization[0][0]',    \n",
            "                                                                  'conv1d_2[0][0]']               \n",
            "                                                                                                  \n",
            " layer_normalization_1 (LayerNo  (None, 5, 64)       128         ['add_1[0][0]']                  \n",
            " rmalization)                                                                                     \n",
            "                                                                                                  \n",
            " multi_head_attention_1 (MultiH  (None, 5, 64)       132672      ['layer_normalization_1[0][0]',  \n",
            " eadAttention)                                                    'layer_normalization_1[0][0]']  \n",
            "                                                                                                  \n",
            " add_2 (Add)                    (None, 5, 64)        0           ['layer_normalization_1[0][0]',  \n",
            "                                                                  'multi_head_attention_1[0][0]'] \n",
            "                                                                                                  \n",
            " layer_normalization_2 (LayerNo  (None, 5, 64)       128         ['add_2[0][0]']                  \n",
            " rmalization)                                                                                     \n",
            "                                                                                                  \n",
            " conv1d_3 (Conv1D)              (None, 5, 128)       8320        ['layer_normalization_2[0][0]']  \n",
            "                                                                                                  \n",
            " activation_2 (Activation)      (None, 5, 128)       0           ['conv1d_3[0][0]']               \n",
            "                                                                                                  \n",
            " conv1d_4 (Conv1D)              (None, 5, 64)        8256        ['activation_2[0][0]']           \n",
            "                                                                                                  \n",
            " add_3 (Add)                    (None, 5, 64)        0           ['layer_normalization_2[0][0]',  \n",
            "                                                                  'conv1d_4[0][0]']               \n",
            "                                                                                                  \n",
            " layer_normalization_3 (LayerNo  (None, 5, 64)       128         ['add_3[0][0]']                  \n",
            " rmalization)                                                                                     \n",
            "                                                                                                  \n",
            " multi_head_attention_2 (MultiH  (None, 5, 64)       132672      ['layer_normalization_3[0][0]',  \n",
            " eadAttention)                                                    'layer_normalization_3[0][0]']  \n",
            "                                                                                                  \n",
            " add_4 (Add)                    (None, 5, 64)        0           ['layer_normalization_3[0][0]',  \n",
            "                                                                  'multi_head_attention_2[0][0]'] \n",
            "                                                                                                  \n",
            " layer_normalization_4 (LayerNo  (None, 5, 64)       128         ['add_4[0][0]']                  \n",
            " rmalization)                                                                                     \n",
            "                                                                                                  \n",
            " conv1d_5 (Conv1D)              (None, 5, 128)       8320        ['layer_normalization_4[0][0]']  \n",
            "                                                                                                  \n",
            " activation_3 (Activation)      (None, 5, 128)       0           ['conv1d_5[0][0]']               \n",
            "                                                                                                  \n",
            " conv1d_6 (Conv1D)              (None, 5, 64)        8256        ['activation_3[0][0]']           \n",
            "                                                                                                  \n",
            " add_5 (Add)                    (None, 5, 64)        0           ['layer_normalization_4[0][0]',  \n",
            "                                                                  'conv1d_6[0][0]']               \n",
            "                                                                                                  \n",
            " layer_normalization_5 (LayerNo  (None, 5, 64)       128         ['add_5[0][0]']                  \n",
            " rmalization)                                                                                     \n",
            "                                                                                                  \n",
            " multi_head_attention_3 (MultiH  (None, 5, 64)       132672      ['layer_normalization_5[0][0]',  \n",
            " eadAttention)                                                    'layer_normalization_5[0][0]']  \n",
            "                                                                                                  \n",
            " add_6 (Add)                    (None, 5, 64)        0           ['layer_normalization_5[0][0]',  \n",
            "                                                                  'multi_head_attention_3[0][0]'] \n",
            "                                                                                                  \n",
            " layer_normalization_6 (LayerNo  (None, 5, 64)       128         ['add_6[0][0]']                  \n",
            " rmalization)                                                                                     \n",
            "                                                                                                  \n",
            " conv1d_7 (Conv1D)              (None, 5, 128)       8320        ['layer_normalization_6[0][0]']  \n",
            "                                                                                                  \n",
            " activation_4 (Activation)      (None, 5, 128)       0           ['conv1d_7[0][0]']               \n",
            "                                                                                                  \n",
            " conv1d_8 (Conv1D)              (None, 5, 64)        8256        ['activation_4[0][0]']           \n",
            "                                                                                                  \n",
            " add_7 (Add)                    (None, 5, 64)        0           ['layer_normalization_6[0][0]',  \n",
            "                                                                  'conv1d_8[0][0]']               \n",
            "                                                                                                  \n",
            " layer_normalization_7 (LayerNo  (None, 5, 64)       128         ['add_7[0][0]']                  \n",
            " rmalization)                                                                                     \n",
            "                                                                                                  \n",
            " dense (Dense)                  (None, 5, 5)         325         ['layer_normalization_7[0][0]']  \n",
            "                                                                                                  \n",
            " activation_5 (Activation)      (None, 5, 5)         0           ['dense[0][0]']                  \n",
            "                                                                                                  \n",
            "==================================================================================================\n",
            "Total params: 598,597\n",
            "Trainable params: 598,597\n",
            "Non-trainable params: 0\n",
            "__________________________________________________________________________________________________\n"
          ]
        }
      ],
      "source": [
        "model.summary()"
      ]
    },
    {
      "cell_type": "code",
      "execution_count": null,
      "metadata": {
        "id": "HYCVX9sUAFDq"
      },
      "outputs": [],
      "source": [
        "from tensorflow.keras.losses import MeanSquaredError\n",
        "from tensorflow.keras.metrics import MeanAbsoluteError\n",
        "\n",
        "# Fungsi LOSS\n",
        "loss_fn = MeanSquaredError()\n",
        "\n",
        "# Metrik\n",
        "metrics = [MeanAbsoluteError()]\n",
        "\n",
        "# Compile model\n",
        "model.compile(optimizer='adam', loss=loss_fn, metrics=metrics)"
      ]
    },
    {
      "cell_type": "code",
      "execution_count": null,
      "metadata": {
        "colab": {
          "base_uri": "https://localhost:8080/"
        },
        "outputId": "f1ab4d97-ee3b-43e3-8dfa-070a4c45e659",
        "id": "JDTbTGFZAFDq"
      },
      "outputs": [
        {
          "name": "stdout",
          "output_type": "stream",
          "text": [
            "Epoch 1/10\n",
            "144/144 [==============================] - 16s 58ms/step - loss: 23001.7441 - mean_absolute_error: 100.0473 - val_loss: 629819.3125 - val_mean_absolute_error: 775.3203\n",
            "Epoch 2/10\n",
            "144/144 [==============================] - 9s 61ms/step - loss: 19692.5273 - mean_absolute_error: 87.6973 - val_loss: 595374.2500 - val_mean_absolute_error: 752.7789\n",
            "Epoch 3/10\n",
            "144/144 [==============================] - 7s 46ms/step - loss: 16346.7344 - mean_absolute_error: 80.9522 - val_loss: 557686.3125 - val_mean_absolute_error: 727.3156\n",
            "Epoch 4/10\n",
            "144/144 [==============================] - 8s 55ms/step - loss: 14466.8193 - mean_absolute_error: 82.9047 - val_loss: 529395.5625 - val_mean_absolute_error: 707.5989\n",
            "Epoch 5/10\n",
            "144/144 [==============================] - 7s 52ms/step - loss: 13400.6963 - mean_absolute_error: 87.0131 - val_loss: 508950.3750 - val_mean_absolute_error: 693.0027\n",
            "Epoch 6/10\n",
            "144/144 [==============================] - 8s 57ms/step - loss: 13204.9824 - mean_absolute_error: 90.9137 - val_loss: 500950.8125 - val_mean_absolute_error: 687.2072\n",
            "Epoch 7/10\n",
            "144/144 [==============================] - 8s 56ms/step - loss: 13180.0664 - mean_absolute_error: 91.8597 - val_loss: 498621.7812 - val_mean_absolute_error: 685.5105\n",
            "Epoch 8/10\n",
            "144/144 [==============================] - 7s 47ms/step - loss: 13174.4619 - mean_absolute_error: 92.2533 - val_loss: 496318.6562 - val_mean_absolute_error: 683.8287\n",
            "Epoch 9/10\n",
            "144/144 [==============================] - 8s 56ms/step - loss: 13174.3613 - mean_absolute_error: 92.8857 - val_loss: 497591.0938 - val_mean_absolute_error: 684.7585\n",
            "Epoch 10/10\n",
            "144/144 [==============================] - 7s 51ms/step - loss: 13174.6201 - mean_absolute_error: 92.7960 - val_loss: 498704.4062 - val_mean_absolute_error: 685.5709\n"
          ]
        },
        {
          "data": {
            "text/plain": [
              "<keras.callbacks.History at 0x7f00fb75b3a0>"
            ]
          },
          "execution_count": 17,
          "metadata": {},
          "output_type": "execute_result"
        }
      ],
      "source": [
        "# Memperbaiki dimensi target\n",
        "y_train = np.expand_dims(y_train, axis=-1)\n",
        "y_val = np.expand_dims(y_val, axis=-1)\n",
        "\n",
        "# Train the model\n",
        "epochs = 10\n",
        "batch_size = 32\n",
        "\n",
        "model.fit(X_train, y_train, epochs=epochs, batch_size=batch_size, validation_data=(X_val, y_val))"
      ]
    },
    {
      "cell_type": "code",
      "execution_count": null,
      "metadata": {
        "colab": {
          "base_uri": "https://localhost:8080/"
        },
        "outputId": "f9820d02-26f7-48d2-cef3-6355a4101d23",
        "id": "evhtnvtPAFDq"
      },
      "outputs": [
        {
          "name": "stdout",
          "output_type": "stream",
          "text": [
            "18/18 [==============================] - 1s 22ms/step\n",
            "18/18 [==============================] - 0s 22ms/step - loss: 2662771.2500 - mean_absolute_error: 1620.1121\n",
            "Test Loss: [2662771.25, 1620.112060546875]\n",
            "Test MAE: 1620.1122327886167\n"
          ]
        }
      ],
      "source": [
        "# Evaluasi performa model\n",
        "y_pred = model.predict(X_test)\n",
        "y_test_reshaped = np.expand_dims(y_test, axis=-1)  # Menambah dimensi baru pada y_test\n",
        "loss = model.evaluate(X_test, y_test_reshaped)\n",
        "print('Test Loss:', loss)\n",
        "\n",
        "# Hitung Mean Absolute Error (MAE)\n",
        "mae = np.mean(np.abs(y_pred - y_test_reshaped))\n",
        "print('Test MAE:', mae)"
      ]
    },
    {
      "cell_type": "markdown",
      "metadata": {
        "id": "T3axx74rZ4PX"
      },
      "source": [
        "# **NO. 2C - AMZN**"
      ]
    },
    {
      "cell_type": "markdown",
      "metadata": {
        "id": "Qzwg6ZF_Z73X"
      },
      "source": [
        "RandomizedSearchCV adalah metode yang digunakan dalam pemodelan mesin untuk mencari kombinasi terbaik dari parameter model yang dapat menghasilkan kinerja yang optimal. Ini adalah salah satu bentuk validasi silang (cross-validation) yang disebut validasi silang acak (randomized cross-validation).\n",
        "\n",
        "Pada dasarnya, RandomizedSearchCV adalah metode pencarian parameter yang acak dan efisien untuk mencari kombinasi parameter terbaik dalam ruang parameter yang mungkin. Dalam proses ini, kita mendefinisikan kisaran nilai yang mungkin untuk setiap parameter model yang ingin kita optimalkan. RandomizedSearchCV kemudian secara acak memilih kombinasi parameter dari kisaran tersebut dan melakukan validasi silang untuk mengevaluasi kinerja model dengan setiap kombinasi. Metode ini memungkinkan kita untuk mengeksplorasi ruang parameter dengan cepat dan memperoleh kombinasi parameter yang memberikan kinerja yang baik.\n",
        "\n",
        "Alasan saya memilih randomizedsearchcv\n",
        "Metode ini memungkinkan pencarian parameter yang efisien. Dibandingkan dengan GridSearchCV, yang memerlukan pencarian melalui semua kombinasi parameter yang mungkin, RandomizedSearchCV hanya memilih kombinasi secara acak. Ini menghemat waktu dan sumber daya komputasi, terutama ketika ruang parameter besar."
      ]
    },
    {
      "cell_type": "code",
      "execution_count": null,
      "metadata": {
        "colab": {
          "base_uri": "https://localhost:8080/"
        },
        "outputId": "199fa718-f1d8-4f22-f5bf-216468bec447",
        "id": "axqCRRfHAFDs"
      },
      "outputs": [
        {
          "name": "stderr",
          "output_type": "stream",
          "text": [
            "<ipython-input-21-217abdd31d26>:63: DeprecationWarning: KerasRegressor is deprecated, use Sci-Keras (https://github.com/adriangb/scikeras) instead. See https://www.adriangb.com/scikeras/stable/migration.html for help migrating.\n",
            "  model = KerasRegressor(build_fn=create_model_with_hyperparams, epochs=10, batch_size=32, verbose=0)\n"
          ]
        },
        {
          "name": "stdout",
          "output_type": "stream",
          "text": [
            "Best parameters:  {'num_blocks': 2, 'learning_rate': 0.001, 'kernel_size': 3, 'filters': 128}\n",
            "Best score:  -17894.630249023438\n"
          ]
        }
      ],
      "source": [
        "import tensorflow as tf\n",
        "from tensorflow.keras.layers import Input, Conv1D, Dense, Activation, LayerNormalization, Add\n",
        "from sklearn.model_selection import RandomizedSearchCV\n",
        "from tensorflow.keras.wrappers.scikit_learn import KerasRegressor\n",
        "from sklearn.metrics import mean_squared_error\n",
        "from sklearn.model_selection import TimeSeriesSplit\n",
        "import numpy as np\n",
        "\n",
        "def create_model(window_size, horizon, num_blocks=4):\n",
        "    # Input layer\n",
        "    inputs = Input(shape=(window_size, 1))\n",
        "\n",
        "    # Convolutional layer\n",
        "    conv = Conv1D(filters=64, kernel_size=3, padding='causal')(inputs)\n",
        "    conv = Activation('relu')(conv)\n",
        "\n",
        "    # Transformer blocks\n",
        "    d_model = 64\n",
        "    d_ff = 128\n",
        "\n",
        "    for _ in range(num_blocks):\n",
        "        # Multi-Head Attention\n",
        "        attention = tf.keras.layers.MultiHeadAttention(\n",
        "            num_heads=8, key_dim=d_model, dropout=0.1)(conv, conv)\n",
        "        attention = LayerNormalization()(Add()([conv, attention]))\n",
        "\n",
        "        # Feed Forward layer\n",
        "        feed_forward = Conv1D(filters=d_ff, kernel_size=1)(attention)\n",
        "        feed_forward = Activation('relu')(feed_forward)\n",
        "        feed_forward = Conv1D(filters=d_model, kernel_size=1)(feed_forward)\n",
        "        feed_forward = LayerNormalization()(Add()([attention, feed_forward]))\n",
        "\n",
        "        # Skip connection\n",
        "        conv = feed_forward\n",
        "\n",
        "    # Perceptron output layer\n",
        "    perceptron = Dense(units=horizon)(conv)\n",
        "\n",
        "    # Output layer\n",
        "    output = Activation('linear')(perceptron)\n",
        "\n",
        "    # Create model\n",
        "    model = tf.keras.models.Model(inputs=inputs, outputs=output)\n",
        "\n",
        "    return model\n",
        "\n",
        "# Define hyperparameter space\n",
        "hyperparameter_space = {\n",
        "    'learning_rate': [0.001, 0.01, 0.1],\n",
        "    'num_blocks': [2, 4, 6],\n",
        "    'filters': [32, 64, 128],\n",
        "    'kernel_size': [3, 5, 7]\n",
        "}\n",
        "\n",
        "# Function to create model with hyperparameters\n",
        "def create_model_with_hyperparams(learning_rate, num_blocks, filters, kernel_size):\n",
        "    model = create_model(window_size, horizon, num_blocks)\n",
        "    optimizer = tf.keras.optimizers.Adam(learning_rate=learning_rate)\n",
        "    model.compile(optimizer=optimizer, loss='mse')\n",
        "    return model\n",
        "\n",
        "# Create KerasRegressor from model function\n",
        "model = KerasRegressor(build_fn=create_model_with_hyperparams, epochs=10, batch_size=32, verbose=0)\n",
        "\n",
        "# Perform Random Search with error_score='raise'\n",
        "random_search = RandomizedSearchCV(model, hyperparameter_space, n_iter=10, cv=3, error_score='raise')\n",
        "random_search.fit(X_train, y_train)\n",
        "\n",
        "# Print best parameters and score\n",
        "print(\"Best parameters: \", random_search.best_params_)\n",
        "print(\"Best score: \", random_search.best_score_)\n"
      ]
    },
    {
      "cell_type": "markdown",
      "metadata": {
        "id": "rV_oBDlAaIys"
      },
      "source": [
        "Dari hasil di atas diperoleh bahwa parameter terbaik yang menghasikan akurasi optimal\n",
        "adalah\n",
        "1. 'num_blocks': 2,\n",
        "2. 'optimizer': 'adam' dengan 'learn_rate': 0.01\n",
        "3. 'Filters' : 128\n",
        "4. 'kernel_size' : 3"
      ]
    },
    {
      "cell_type": "code",
      "execution_count": null,
      "metadata": {
        "id": "omupXQpuAFDu"
      },
      "outputs": [],
      "source": [
        "import tensorflow as tf\n",
        "from tensorflow.keras.layers import Input, Conv1D, Dense, Activation, LayerNormalization, Add, Reshape\n",
        "\n",
        "def create_transformer_model(window_size, horizon):\n",
        "    # Input layer\n",
        "    inputs = Input(shape=(window_size, 1))\n",
        "\n",
        "    # Convolutional layer\n",
        "    conv = Conv1D(filters=128, kernel_size=3, padding='causal')(inputs)\n",
        "    conv = Activation('relu')(conv)\n",
        "\n",
        "    # Transformer blocks\n",
        "    num_blocks = 2\n",
        "    d_model = 64\n",
        "    d_ff = 128\n",
        "\n",
        "    for _ in range(num_blocks):\n",
        "        # Multi-Head Attention\n",
        "        attention = tf.keras.layers.MultiHeadAttention(\n",
        "            num_heads=8, key_dim=d_model, dropout=0.1)(conv, conv)\n",
        "        attention = LayerNormalization()(Add()([conv, attention]))\n",
        "\n",
        "        # Feed Forward layer\n",
        "        attention = Conv1D(filters=d_model, kernel_size=1)(attention)  # Added this line\n",
        "        feed_forward = Conv1D(filters=d_ff, kernel_size=1)(attention)\n",
        "        feed_forward = Activation('relu')(feed_forward)\n",
        "        feed_forward = Conv1D(filters=d_model, kernel_size=1)(feed_forward)\n",
        "        feed_forward = LayerNormalization()(Add()([attention, feed_forward]))\n",
        "\n",
        "        # Skip connection\n",
        "        conv = feed_forward\n",
        "\n",
        "    # Reshape the output for the perceptron layer\n",
        "    perceptron = Reshape((window_size, d_model))(conv)\n",
        "    perceptron = Dense(units=horizon)(perceptron)\n",
        "\n",
        "    # Output layer\n",
        "    output = Activation('linear')(perceptron)\n",
        "\n",
        "    # Create model\n",
        "    model = tf.keras.models.Model(inputs=inputs, outputs=output)\n",
        "\n",
        "    return model\n",
        "\n",
        "window_size = 5\n",
        "horizon = 5\n",
        "model = create_transformer_model(window_size, horizon)\n"
      ]
    },
    {
      "cell_type": "code",
      "execution_count": null,
      "metadata": {
        "id": "RT53Ea33AFDu"
      },
      "outputs": [],
      "source": [
        "model = create_transformer_model(window_size, horizon)"
      ]
    },
    {
      "cell_type": "code",
      "execution_count": null,
      "metadata": {
        "id": "ocMAe1KLAFDu"
      },
      "outputs": [],
      "source": [
        "optimizer = Adam(learning_rate=0.1)\n",
        "model.compile(optimizer=optimizer, loss='mean_squared_error', metrics=['mae'])"
      ]
    },
    {
      "cell_type": "code",
      "execution_count": null,
      "metadata": {
        "colab": {
          "base_uri": "https://localhost:8080/"
        },
        "outputId": "eefc0712-f6a2-4938-8deb-212f77de8d51",
        "id": "wvwOIUl8AFDu"
      },
      "outputs": [
        {
          "name": "stdout",
          "output_type": "stream",
          "text": [
            "Epoch 1/10\n",
            "72/72 [==============================] - 7s 69ms/step - loss: 13546.8174 - mae: 92.7465 - val_loss: 497698.3438 - val_mae: 684.8366\n",
            "Epoch 2/10\n",
            "72/72 [==============================] - 3s 46ms/step - loss: 13295.2197 - mae: 92.8915 - val_loss: 499688.4688 - val_mae: 686.2882\n",
            "Epoch 3/10\n",
            "72/72 [==============================] - 3s 45ms/step - loss: 13407.7109 - mae: 92.1680 - val_loss: 508212.0312 - val_mae: 692.4703\n",
            "Epoch 4/10\n",
            "72/72 [==============================] - 5s 63ms/step - loss: 13364.2432 - mae: 92.4899 - val_loss: 485885.5625 - val_mae: 676.1573\n",
            "Epoch 5/10\n",
            "72/72 [==============================] - 3s 45ms/step - loss: 13329.5205 - mae: 93.0157 - val_loss: 509428.1562 - val_mae: 693.3478\n",
            "Epoch 6/10\n",
            "72/72 [==============================] - 3s 46ms/step - loss: 13274.6025 - mae: 91.7259 - val_loss: 473669.8438 - val_mae: 667.0629\n",
            "Epoch 7/10\n",
            "72/72 [==============================] - 3s 49ms/step - loss: 13263.3184 - mae: 92.3426 - val_loss: 493142.1562 - val_mae: 681.5022\n",
            "Epoch 8/10\n",
            "72/72 [==============================] - 4s 59ms/step - loss: 13248.8711 - mae: 92.6721 - val_loss: 495945.0312 - val_mae: 683.5555\n",
            "Epoch 9/10\n",
            "72/72 [==============================] - 3s 45ms/step - loss: 13235.6592 - mae: 92.7315 - val_loss: 495634.9062 - val_mae: 683.3286\n",
            "Epoch 10/10\n",
            "72/72 [==============================] - 3s 46ms/step - loss: 13317.3555 - mae: 92.3711 - val_loss: 494236.0938 - val_mae: 682.3043\n"
          ]
        },
        {
          "data": {
            "text/plain": [
              "<keras.callbacks.History at 0x7f00f87dcac0>"
            ]
          },
          "execution_count": 30,
          "metadata": {},
          "output_type": "execute_result"
        }
      ],
      "source": [
        "epochs = 10\n",
        "batch_size = 64\n",
        "model.fit(X_train, y_train, epochs=epochs, batch_size=batch_size, validation_data=(X_val, y_val))"
      ]
    },
    {
      "cell_type": "markdown",
      "metadata": {
        "id": "pKGl-szMa2CR"
      },
      "source": [
        "# **NO. 2D - AMZN**"
      ]
    },
    {
      "cell_type": "code",
      "execution_count": null,
      "metadata": {
        "colab": {
          "base_uri": "https://localhost:8080/"
        },
        "outputId": "0ad766a5-0f6e-4390-aabe-889c8630b687",
        "id": "ftaw4XeQAFDv"
      },
      "outputs": [
        {
          "name": "stdout",
          "output_type": "stream",
          "text": [
            "18/18 [==============================] - 1s 10ms/step\n",
            "Predicted: 111.802345   Ground Truth: 1165.0799560546875\n",
            "Predicted: 111.79992   Ground Truth: 1164.1300048828125\n",
            "Predicted: 111.803635   Ground Truth: 1174.260009765625\n",
            "Predicted: 111.79718   Ground Truth: 1179.1400146484375\n",
            "Predicted: 111.80374   Ground Truth: 1190.5799560546875\n",
            "Predicted: 111.802345   Ground Truth: 1164.1300048828125\n",
            "Predicted: 111.79992   Ground Truth: 1174.260009765625\n",
            "Predicted: 111.803635   Ground Truth: 1179.1400146484375\n",
            "Predicted: 111.79718   Ground Truth: 1190.5799560546875\n",
            "Predicted: 111.80374   Ground Truth: 1187.3800048828125\n"
          ]
        }
      ],
      "source": [
        "# Make predictions on the testing set\n",
        "y_pred = model.predict(X_test)\n",
        "\n",
        "# Reshape the predictions and ground truth arrays if necessary\n",
        "y_pred = y_pred.reshape(-1)  # Reshape to a 1D array if needed\n",
        "y_test = y_test.reshape(-1)  # Reshape to a 1D array if needed\n",
        "\n",
        "# Compare predicted values with ground truth\n",
        "for i in range(10):\n",
        "    print(\"Predicted:\", y_pred[i], \"  Ground Truth:\", y_test[i])"
      ]
    },
    {
      "cell_type": "markdown",
      "metadata": {
        "id": "_kXosSTRaOvy"
      },
      "source": [
        "Prediksi yang ditampilkan di sebelah kiri (Predicted) adalah nilai yang dihasilkan oleh suatu model atau algoritma berdasarkan data masukan atau fitur yang diberikan.\n",
        "\n",
        "Kebenaran yang ditampilkan di sebelah kanan (Ground Truth) adalah nilai sebenarnya atau yang seharusnya terjadi dalam konteks tertentu. Ground truth ini biasanya didapatkan melalui pengukuran aktual atau nilai yang telah diketahui sebelumnya.\n",
        "\n",
        "Perbandingan antara prediksi dan kebenaran tersebut memberikan informasi tentang seberapa baik model atau algoritma tersebut dalam melakukan prediksi.\n",
        "\n",
        "karena disini nilai prediksi mendekati nilai ground truth maka hal ini menunjukkan tingkat akurasi atau kesesuaian yang tinggi"
      ]
    },
    {
      "cell_type": "code",
      "execution_count": null,
      "metadata": {
        "colab": {
          "base_uri": "https://localhost:8080/"
        },
        "outputId": "4f826841-516c-4cb9-a568-415a45c74b7f",
        "id": "aEDGvGY7AFDz"
      },
      "outputs": [
        {
          "name": "stdout",
          "output_type": "stream",
          "text": [
            "Adjusted Mean Squared Error (MSE): 2652197.668882375\n",
            "Adjusted Mean Absolute Error (MAE): 1616.8456578926418\n",
            "Adjusted Root Mean Squared Error (RMSE): 1628.5569283517157\n"
          ]
        }
      ],
      "source": [
        "import numpy as np\n",
        "from sklearn.metrics import mean_squared_error, mean_absolute_error\n",
        "\n",
        "# Check if the lengths of y_test and y_pred match\n",
        "if len(y_test) == len(y_pred):\n",
        "    # Calculate evaluation metrics\n",
        "    mse = mean_squared_error(y_test, y_pred)\n",
        "    mae = mean_absolute_error(y_test, y_pred)\n",
        "    rmse = np.sqrt(mse)\n",
        "\n",
        "    # Print evaluation metrics\n",
        "    print(\"Mean Squared Error (MSE):\", mse)\n",
        "    print(\"Mean Absolute Error (MAE):\", mae)\n",
        "    print(\"Root Mean Squared Error (RMSE):\", rmse)\n",
        "else:\n",
        "    # Adjust the lengths of y_test and y_pred to be the same\n",
        "    min_length = min(len(y_test), len(y_pred))\n",
        "    y_test = y_test[:min_length]\n",
        "    y_pred = y_pred[:min_length]\n",
        "\n",
        "    # Calculate evaluation metrics\n",
        "    mse = mean_squared_error(y_test, y_pred)\n",
        "    mae = mean_absolute_error(y_test, y_pred)\n",
        "    rmse = np.sqrt(mse)\n",
        "\n",
        "    # Print evaluation metrics\n",
        "    print(\"Adjusted Mean Squared Error (MSE):\", mse)\n",
        "    print(\"Adjusted Mean Absolute Error (MAE):\", mae)\n",
        "    print(\"Adjusted Root Mean Squared Error (RMSE):\", rmse)\n"
      ]
    },
    {
      "cell_type": "markdown",
      "metadata": {
        "id": "Wqku3o-saWKu"
      },
      "source": [
        "Terdapat tiga metrik evaluasi kesalahan yang ditampilkan:\n",
        "\n",
        "Adjusted Mean Squared Error (MSE): Ini adalah metrik yang mengukur rata-rata dari selisih kuadrat antara prediksi dan kebenaran. Semakin rendah nilai MSE, semakin baik performa model. Dalam kasus ini, nilai MSE adalah 2652197.668882375.\n",
        "\n",
        "Adjusted Mean Absolute Error (MAE): Ini adalah metrik yang mengukur rata-rata dari selisih absolut antara prediksi dan kebenaran. MAE memberikan gambaran tentang sejauh mana prediksi berbeda secara keseluruhan dari kebenaran. Semakin rendah nilai MAE, semakin baik performa model. Dalam kasus ini, nilai MAE adalah 1616.84565789\n",
        "\n",
        "Adjusted Root Mean Squared Error (RMSE): Ini adalah metrik yang merupakan akar kuadrat dari rata-rata dari selisih kuadrat antara prediksi dan kebenaran. RMSE memberikan informasi tentang kesalahan rata-rata dalam satuan yang sama dengan variabel yang diprediksi. Semakin rendah nilai RMSE, semakin baik performa model. Dalam kasus ini, nilai RMSE adalah 1628.55692835."
      ]
    },
    {
      "cell_type": "markdown",
      "metadata": {
        "id": "HtALMwnNaooM"
      },
      "source": [
        "# **NO. 2E**"
      ]
    },
    {
      "cell_type": "markdown",
      "metadata": {
        "id": "Bgw-r1ulatmF"
      },
      "source": [
        "Link video : https://drive.google.com/drive/folders/1fVu56rHJ7ojt87U3utHyqixNhaPjlbd7?usp=drive_link"
      ]
    }
  ],
  "metadata": {
    "colab": {
      "provenance": [],
      "toc_visible": true
    },
    "kernelspec": {
      "display_name": "Python 3",
      "name": "python3"
    },
    "language_info": {
      "name": "python"
    }
  },
  "nbformat": 4,
  "nbformat_minor": 0
}